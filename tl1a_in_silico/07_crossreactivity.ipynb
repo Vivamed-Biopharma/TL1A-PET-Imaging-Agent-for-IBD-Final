{
  "cells": [
    {
      "cell_type": "code",
      "execution_count": null,
      "metadata": {},
      "outputs": [],
      "source": [
        "def kmer_set(seq,k=6): return {seq[i:i+k] for i in range(len(seq)-k+1)}\n",
        "\n",
        "def paratope_concat(Hs, Ls): return Hs[\"H3\"]+Hs[\"H2\"]+Ls[\"L3\"]+Hs[\"H1\"]+Ls[\"L1\"]\n",
        "\n",
        "CDRS = {\n",
        " \"Fab01\":{\"H1\":\"SGYSMHIN\",\"H2\":\"ITYDGGDSNYNPGLKD\",\"H3\":\"CARGYGNGDWYFDYFDY\",\"L1\":\"SNYGTSY\",\"L2\":\"DAS\",\"L3\":\"QQYNNWPT\"},\n",
        " \"Fab02\":{\"H1\":\"SSYAMHIN\",\"H2\":\"ISFDGGDTNYNPALKD\",\"H3\":\"CARDFYGGDWYFDYFDY\",\"L1\":\"SNYGMSY\",\"L2\":\"DSS\",\"L3\":\"QQYDSWPT\"},\n",
        " \"Fab03\":{\"H1\":\"SSYAMHIN\",\"H2\":\"ISYDGGDTNYNPSLKD\",\"H3\":\"CARGYGNGDWYFDYFDY\",\"L1\":\"SSYGMSY\",\"L2\":\"DAS\",\"L3\":\"QQYDSWPT\"},\n",
        " \"Fab04\":{\"H1\":\"SSYAMHIN\",\"H2\":\"ISYDGGDANYNPNLKD\",\"H3\":\"CARGYGSGDWYFDYFDY\",\"L1\":\"SNYGTSY\",\"L2\":\"DAS\",\"L3\":\"QQYDSWPT\"},\n",
        " \"Fab05\":{\"H1\":\"SSYAMHIN\",\"H2\":\"ISYDGGDANYNPNLKD\",\"H3\":\"CARGYGSGDWYFDYFDY\",\"L1\":\"SNYGMSY\",\"L2\":\"DAS\",\"L3\":\"QQYDSWPT\"},\n",
        " \"Fab06\":{\"H1\":\"SGYSMHIN\",\"H2\":\"ISYDGGDANYNPNLKD\",\"H3\":\"CARGLYGSDWYFDYFDY\",\"L1\":\"SNYGTSY\",\"L2\":\"DAS\",\"L3\":\"QQYNNYPT\"},\n",
        " \"Fab07\":{\"H1\":\"GSYAMYIN\",\"H2\":\"ISYDGGDTNYNPSLKD\",\"H3\":\"CARDFYGGDWYFDYFDY\",\"L1\":\"SNYGTSY\",\"L2\":\"DSS\",\"L3\":\"QQYDSWPT\"},\n",
        " \"Fab08\":{\"H1\":\"SGYSMHIN\",\"H2\":\"ISYDGGDTNYNPSLKD\",\"H3\":\"CARDFYGGDWYFDYFDY\",\"L1\":\"SNYGTSY\",\"L2\":\"DAS\",\"L3\":\"QQYNNWPT\"},\n",
        " \"Fab09\":{\"H1\":\"SSYGLHIN\",\"H2\":\"ISYDGGDANYNPNLKD\",\"H3\":\"CARGYSSGDWYFDYFDY\",\"L1\":\"SSYGMSY\",\"L2\":\"DAS\",\"L3\":\"QQYDSWPT\"},\n",
        " \"Fab10\":{\"H1\":\"GSYAMYIN\",\"H2\":\"ISYDGGDTNYNPSLKD\",\"H3\":\"CARDFYGGDWYFDYFDY\",\"L1\":\"SSYGMSY\",\"L2\":\"DSS\",\"L3\":\"QQYNTWPT\"},\n",
        " \"Fab11\":{\"H1\":\"SGYSMHIN\",\"H2\":\"ISYDGGDANYNPNLKD\",\"H3\":\"CARGYSSGDWYFDYFDY\",\"L1\":\"SNYGTSY\",\"L2\":\"DAS\",\"L3\":\"QQYNNWPT\"},\n",
        " \"Fab12\":{\"H1\":\"SGYSMHIN\",\"H2\":\"ISYDGGDANYNPNLKD\",\"H3\":\"CARDFYGGDWYFDYFDY\",\"L1\":\"SSYGMSY\",\"L2\":\"DAS\",\"L3\":\"QQYNNWPT\"}\n",
        "}\n",
        "\n",
        "FAMILY = {\n",
        "  # Paste TNFSF sequences here to evaluate overlaps.\n",
        "}\n",
        "\n",
        "def xreact_scores(clone):\n",
        "    Hs = {k:CDRS[clone][k] for k in [\"H1\",\"H2\",\"H3\"]}\n",
        "    Ls = {k:CDRS[clone][k] for k in [\"L1\",\"L2\",\"L3\"]}\n",
        "    p = paratope_concat(Hs,Ls)\n",
        "    pset = kmer_set(p,6)\n",
        "    out=[]\n",
        "    for name,seq in FAMILY.items():\n",
        "        overlap = len(pset & kmer_set(seq,6))\n",
        "        out.append((name, overlap))\n",
        "    return sorted(out, key=lambda x: x[1], reverse=True)\n",
        "\n",
        "# Example (FAMILY empty by default):\n",
        "print(xreact_scores(\"Fab06\"))\n"
      ]
    }
  ],
  "metadata": {
    "language_info": {
      "name": "python"
    }
  },
  "nbformat": 4,
  "nbformat_minor": 2
}

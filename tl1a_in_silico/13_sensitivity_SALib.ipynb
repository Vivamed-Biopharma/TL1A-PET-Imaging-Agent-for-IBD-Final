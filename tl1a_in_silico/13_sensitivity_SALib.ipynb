{
  "cells": [
    {
      "cell_type": "code",
      "execution_count": null,
      "metadata": {},
      "outputs": [],
      "source": [
        "import numpy as np\n",
        "from SALib.sample import saltelli\n",
        "from SALib.analyze import sobol\n",
        "\n",
        "# TBR ≈ 1 + α * (Bmax/Kd)\n",
        "problem = {'num_vars': 3, 'names': ['alpha','Bmax','Kd'],\n",
        "           'bounds': [[0.2,0.6], [10,1e4], [1e-10,1e-8]]}\n",
        "\n",
        "X = saltelli.sample(problem, 512, calc_second_order=False)\n",
        "\n",
        "def model(x): a,b,k = x; return 1 + a*(b/k)\n",
        "\n",
        "Y = np.apply_along_axis(model, 1, X)\n",
        "Si = sobol.analyze(problem, Y, calc_second_order=False, print_to_console=False)\n",
        "print(\"S1:\", dict(zip(problem['names'], np.round(Si['S1'],3))))\n",
        "print(\"ST:\", dict(zip(problem['names'], np.round(Si['ST'],3))))\n"
      ]
    }
  ],
  "metadata": {
    "language_info": {
      "name": "python"
    }
  },
  "nbformat": 4,
  "nbformat_minor": 2
}

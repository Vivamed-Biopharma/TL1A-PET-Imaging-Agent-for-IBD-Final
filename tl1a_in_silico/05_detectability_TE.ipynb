{
  "cells": [
    {
      "cell_type": "code",
      "execution_count": null,
      "metadata": {},
      "outputs": [],
      "source": [
        "import numpy as np, pandas as pd\n",
        "\n",
        "def TBR(Bmax, Kd, alpha=0.4):   # alpha: extraction/kinetic factor (0.2–0.6 reasonable)\n",
        "    BP = Bmax/max(1e-12, Kd)\n",
        "    return 1 + alpha*BP\n",
        "\n",
        "BMAX = np.logspace(1,4,10)      # arbitrary units; relative sweep\n",
        "KD   = np.logspace(-10,-8,9)    # 0.1 nM .. 10 nM\n",
        "ALPHA= 0.4\n",
        "\n",
        "rows=[]\n",
        "for b in BMAX:\n",
        "    for k in KD:\n",
        "        pre = TBR(b,k,ALPHA)\n",
        "        for occ in (0.5,0.8):\n",
        "            post = TBR(b*(1-occ),k,ALPHA)\n",
        "            rows.append(dict(Bmax=b,Kd=k,Occ=occ,TBR_pre=pre,TBR_post=post,Delta=post-pre))\n",
        "df = pd.DataFrame(rows)\n",
        "\n",
        "print(\"Fraction grid with TBR_pre ≥ 1.5:\", (df[\"TBR_pre\"]>=1.5).mean())\n",
        "print(\"Median ΔTBR at 80% occupancy:\", df[df[\"Occ\"]==0.8][\"Delta\"].median())\n",
        "df.head()\n"
      ]
    }
  ],
  "metadata": {
    "language_info": {
      "name": "python"
    }
  },
  "nbformat": 4,
  "nbformat_minor": 2
}

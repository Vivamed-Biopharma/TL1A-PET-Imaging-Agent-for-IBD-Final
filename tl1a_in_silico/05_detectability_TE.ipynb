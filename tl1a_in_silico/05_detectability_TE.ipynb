{
  "cells": [
    {
      "cell_type": "code",
      "execution_count": null,
      "metadata": {},
      "outputs": [],
      "source": [
        "import numpy as np, pandas as pd\n",
        "\n",
        "def TBR(Bmax, Kd, alpha=0.2):   # alpha: extraction/kinetic factor (calibrated to 0.2 for physiologic)\n",
        "    BP = Bmax/max(1e-12, Kd)\n",
        "    return 1 + alpha*BP\n",
        "\n",
        "# Calibrated grid: narrowed to physiologic ranges\n",
        "BMAX = [0.3, 1.0, 3.0]         # nM, effective tissue target band\n",
        "KD   = [0.3, 1.0, 3.0, 10.0]   # nM, expected affinity band\n",
        "ALPHA= 0.2\n",
        "\n",
        "rows=[]\n",
        "for b in BMAX:\n",
        "    for k in KD:\n",
        "        pre = TBR(b,k,ALPHA)\n",
        "        for occ in (0.5,0.8):\n",
        "            post = TBR(b*(1-occ),k,ALPHA)\n",
        "            rows.append(dict(Bmax=b,Kd=k,Occ=occ,TBR_pre=pre,TBR_post=post,Delta=post-pre))\n",
        "df = pd.DataFrame(rows)\n",
        "\n",
        "print(\"Calibrated detectability grid summaries:\")\n",
        "print(\"Fraction grid with TBR_pre ≥ 1.5:\", (df[\"TBR_pre\"]>=1.5).mean())\n",
        "print(\"Median ΔTBR at 80% occupancy:\", df[df[\"Occ\"]==0.8][\"Delta\"].median())\n",
        "print(\"Guidance: aim for TBR_pre ≥ 1.5 and blocked ΔTBR ≤ -0.3 in target windows.\")\n",
        "df.head()\n"
      ]
    }
  ],
  "metadata": {
    "language_info": {
      "name": "python"
    }
  },
  "nbformat": 4,
  "nbformat_minor": 2
}

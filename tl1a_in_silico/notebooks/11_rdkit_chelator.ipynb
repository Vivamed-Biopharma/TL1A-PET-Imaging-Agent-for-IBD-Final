{
  "cells": [
    {
      "cell_type": "code",
      "execution_count": null,
      "metadata": {},
      "outputs": [],
      "source": [
        "SMILES = {\n",
        "  \"NOTA\": \"OC(=O)CN1CCN(CCN(CC(=O)O)CC(=O)O)CC1\",\n",
        "  \"p-SCN-Bn-NOTA\": \"C1CN(CC(N(CCN1CC(=O)O)CC(=O)O)CC2=CC=C(C=C2)N=C=S)CC(=O)O\"\n",
        "}\n",
        "\n",
        "try:\n",
        "    from rdkit import Chem\n",
        "    from rdkit.Chem import Descriptors, rdMolDescriptors, Crippen\n",
        "    for nm, smi in SMILES.items():\n",
        "        m = Chem.MolFromSmiles(smi)\n",
        "        print(nm, dict(Formula=rdMolDescriptors.CalcMolFormula(m),\n",
        "                       MW=round(Descriptors.MolWt(m),2),\n",
        "                       cLogP=round(Crippen.MolLogP(m),2),\n",
        "                       TPSA=round(Descriptors.TPSA(m),1),\n",
        "                       HBD=Descriptors.NumHDonors(m),\n",
        "                       HBA=Descriptors.NumHAcceptors(m)))\n",
        "except Exception as e:\n",
        "    print(\"RDKit not installed; keep SMILES identifiers in the package.\")\n"
      ]
    }
  ],
  "metadata": {
    "language_info": {
      "name": "python"
    }
  },
  "nbformat": 4,
  "nbformat_minor": 2
}

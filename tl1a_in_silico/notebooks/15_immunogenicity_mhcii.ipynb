{
  "cells": [
    {
      "cell_type": "code",
      "execution_count": null,
      "metadata": {},
      "outputs": [],
      "source": [
        "# Expanded immunogenicity proxy (disclosure-level + anchors)\n",
        "# No external predictors required for this scaffold.\n",
        "\n",
        "import pandas as pd\n",
        "\n",
        "def immu_anchor_burden(seq, w=15, anchors=\"FYW\"):  # extended anchor heuristic\n",
        "    score=0\n",
        "    for i in range(len(seq)-w+1):\n",
        "        win=seq[i:i+w]\n",
        "        score += (sum(a in anchors for a in win)>=3)\n",
        "    return score\n",
        "\n",
        "def cysteine_count(seq):\n",
        "    return seq.count('C')\n",
        "\n",
        "rows=[]\n",
        "for clone,ch in FABS.items():\n",
        "    VH,VL=ch['VH'],ch['VL']\n",
        "    rows.append(dict(\n",
        "        Clone=clone,\n",
        "        ImmBurden_VH=immu_anchor_burden(VH),\n",
        "        ImmBurden_VL=immu_anchor_burden(VL),\n",
        "        Cys_VH=cysteine_count(VH),\n",
        "        Cys_VL=cysteine_count(VL)\n",
        "    ))\n",
        "\n",
        "df = pd.DataFrame(rows).sort_values('Clone')\n",
        "outp='tl1a_in_silico/mhcII_proxy.csv'\n",
        "df.to_csv(outp, index=False)\n",
        "print('Wrote', outp)\n",
        "df.head()\n"
      ]
    }
  ],
  "metadata": {
    "language_info": {
      "name": "python"
    }
  },
  "nbformat": 4,
  "nbformat_minor": 2
}

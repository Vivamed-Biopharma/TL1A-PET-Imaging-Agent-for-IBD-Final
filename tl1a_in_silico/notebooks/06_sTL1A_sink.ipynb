{
  "cells": [
    {
      "cell_type": "code",
      "execution_count": null,
      "metadata": {},
      "outputs": [],
      "source": [
        "import numpy as np\n",
        "\n",
        "def free_fraction(Kd, s):  # Kd and s in same concentration units\n",
        "    return 1.0 - (s/(Kd + s))\n",
        "\n",
        "for Kd in (1e-9, 3e-9, 1e-8):   # 1, 3, 10 nM\n",
        "    grid = [(s, free_fraction(Kd, s)) for s in np.logspace(-11,-7,9)]\n",
        "    print(f\"Kd={Kd:.1e}\", \" ... \", f\"[{grid[0][0]:.1e} → f_free={grid[0][1]:.2f}]\",\n",
        "          \"...\",\n",
        "          f\"[{grid[4][0]:.1e} → f_free={grid[4][1]:.2f}]\",\n",
        "          \"...\",\n",
        "          f\"[{grid[-1][0]:.1e} → f_free={grid[-1][1]:.2f}]\")\n"
      ]
    }
  ],
  "metadata": {
    "language_info": {
      "name": "python"
    }
  },
  "nbformat": 4,
  "nbformat_minor": 2
}

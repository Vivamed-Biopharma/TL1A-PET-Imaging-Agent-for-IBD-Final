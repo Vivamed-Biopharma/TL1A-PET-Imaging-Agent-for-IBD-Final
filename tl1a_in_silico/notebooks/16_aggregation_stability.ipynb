{
  "cells": [
    {
      "cell_type": "code",
      "execution_count": null,
      "metadata": {},
      "outputs": [],
      "source": [
        "# Aggregation/Stability proxy (structure-aware surface patches)\n",
        "# Uses sequence proxy if no structure available.\n",
        "\n",
        "import pandas as pd\n",
        "\n",
        "KD={'I':4.5,'V':4.2,'L':3.8,'F':2.8,'C':2.5,'M':1.9,'A':1.8,'G':-0.4,'T':-0.7,'S':-0.8,\n",
        "    'W':-0.9,'Y':-1.3,'P':-1.6,'H':-3.2,'E':-3.5,'Q':-3.5,'D':-3.5,'N':-3.5,'K':-3.9,'R':-4.5}\n",
        "\n",
        "def window_scores(seq, w=9):\n",
        "    out=[]\n",
        "    for i in range(len(seq)-w+1):\n",
        "        win = seq[i:i+w]\n",
        "        hyd = sum(KD.get(a,0) for a in win)/w\n",
        "        pos = sum(a in \"KRH\" for a in win)/w\n",
        "        out.append(hyd+0.5*pos)\n",
        "    return max(out) if out else 0.0\n",
        "\n",
        "rows=[]\n",
        "for clone,ch in FABS.items():\n",
        "    for chain in (\"VH\",\"VL\"):\n",
        "        s=ch[chain]\n",
        "        agg=round(window_scores(s),2)\n",
        "        rows.append(dict(Clone=clone, Chain=chain, AggProxyMax=agg))\n",
        "\n",
        "df=pd.DataFrame(rows).pivot(index='Clone', columns='Chain', values='AggProxyMax').reset_index()\n",
        "df.to_csv('tl1a_in_silico/agg_structure.csv', index=False)\n",
        "print('Wrote tl1a_in_silico/agg_structure.csv')\n",
        "df.head()\n"
      ]
    }
  ],
  "metadata": {
    "language_info": {
      "name": "python"
    }
  },
  "nbformat": 4,
  "nbformat_minor": 2
}

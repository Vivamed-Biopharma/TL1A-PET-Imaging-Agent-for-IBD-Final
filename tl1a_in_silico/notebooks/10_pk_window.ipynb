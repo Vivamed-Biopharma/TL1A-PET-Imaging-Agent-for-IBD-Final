{
  "cells": [
    {
      "cell_type": "code",
      "execution_count": null,
      "metadata": {},
      "outputs": [],
      "source": [
        "import numpy as np\n",
        "# Simple one-compartment with effective rate (very rough illustration)\n",
        "def simulate(C0=1.0, t_end=120, k_eff=0.02):  # k_eff ~ 0.02 min^-1 => t1/2 ~35 min (toy)\n",
        "    t = np.arange(0, t_end+1, 5)\n",
        "    C = C0 * np.exp(-k_eff*t)\n",
        "    return t, C\n",
        "\n",
        "t, C = simulate()\n",
        "list(zip(t[:5], np.round(C[:5],3))), (\"...\"), list(zip(t[-5:], np.round(C[-5:],3)))\n"
      ]
    }
  ],
  "metadata": {
    "language_info": {
      "name": "python"
    }
  },
  "nbformat": 4,
  "nbformat_minor": 2
}

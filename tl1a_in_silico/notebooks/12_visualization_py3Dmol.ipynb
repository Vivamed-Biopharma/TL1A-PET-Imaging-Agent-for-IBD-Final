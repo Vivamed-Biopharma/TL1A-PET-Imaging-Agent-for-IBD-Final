{
  "cells": [
    {
      "cell_type": "code",
      "execution_count": null,
      "metadata": {},
      "outputs": [],
      "source": [
        "# Optional visualization (requires py3Dmol)\n",
        "# pip install py3Dmol\n",
        "try:\n",
        "    import py3Dmol\n",
        "    view = py3Dmol.view(width=600, height=420)\n",
        "    # If you have a local PDB in assets/, for example:\n",
        "    # view.addModel(open(\"assets/Fab_model.pdb\").read(),\"pdb\")\n",
        "    view\n",
        "except Exception:\n",
        "    print(\"py3Dmol not installed; visualization skipped.\")\n"
      ]
    }
  ],
  "metadata": {
    "language_info": {
      "name": "python"
    }
  },
  "nbformat": 4,
  "nbformat_minor": 2
}

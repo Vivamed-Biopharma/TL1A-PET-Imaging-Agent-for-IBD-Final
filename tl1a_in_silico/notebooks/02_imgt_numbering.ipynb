{
  "cells": [
    {
      "cell_type": "code",
      "execution_count": null,
      "metadata": {},
      "outputs": [],
      "source": [
        "# IMGT numbering for all clones; export CSV for report integration\n",
        "# pip install anarci\n",
        "\n",
        "import pandas as pd\n",
        "try:\n",
        "    from anarci import run_anarci\n",
        "except Exception as e:\n",
        "    print(\"ANARCI not installed; skipping IMGT numbering.\")\n",
        "    raise SystemExit(0)\n",
        "\n",
        "rows=[]\n",
        "for clone, ch in FABS.items():\n",
        "    for chain_name in ('VH','VL'):\n",
        "        seq = ch[chain_name]\n",
        "        res,_,_ = run_anarci([(\"seq\", seq)], scheme=\"imgt\", assign_germline=True)\n",
        "        aln = res[0][0]['alignment']  # list of (pos, aa, region)\n",
        "        cdr1 = \"\".join(a for _,a,r in aln if r==\"CDR1\")\n",
        "        cdr2 = \"\".join(a for _,a,r in aln if r==\"CDR2\")\n",
        "        cdr3 = \"\".join(a for _,a,r in aln if r==\"CDR3\")\n",
        "        rows.append(dict(Clone=clone, Chain=chain_name, CDR1=cdr1, CDR2=cdr2, CDR3=cdr3))\n",
        "\n",
        "df = pd.DataFrame(rows).sort_values(['Clone','Chain'])\n",
        "outp = 'tl1a_in_silico/imgt_numbering.csv'\n",
        "df.to_csv(outp, index=False)\n",
        "print(\"Wrote\", outp)\n",
        "df.head()\n"
      ]
    },
    {
      "cell_type": "code",
      "execution_count": null,
      "metadata": {},
      "outputs": [],
      "source": [
        "# Shared sequences (FABS) for numbering examples\n",
        "FABS = {\n",
        " \"Fab06\":{\"VH\":\"EVQLVESGGGLVQPGGSLRLSCAASGFTSGYSMHINWVRQAPGKGLEWVAVISYDGGDANYNPNLKDKATLTVDTSSSTAYMQLSSLTSEDSAVYYCARGLYGSDWYFDYFDYWGQGTLVTVSS\",\n",
        "          \"VL\":\"DIVMTQSPSSLSASVGDRVTITCRASQSNYGTSYWYQQKPGKAPKLLIYDASRATGVPDRFSGSGSGTDFTLTISSLQPEDFATYYCQQYNNYPTFGGGTKLEIK\"}\n",
        "}\n",
        "\n",
        "# Minimal sanity: show the VH of Fab06\n",
        "print(len(FABS[\"Fab06\"][\"VH\"]))\n"
      ]
    },
    {
      "cell_type": "code",
      "execution_count": null,
      "metadata": {},
      "outputs": [],
      "source": [
        "# Optional IMGT/ANARCI numbering\n",
        "try:\n",
        "    from anarci import run_anarci\n",
        "    def imgt_number(seq):\n",
        "        res,_,_ = run_anarci([(\"seq\", seq)], scheme=\"imgt\", assign_germline=True)\n",
        "        return res[0][0]['alignment']\n",
        "    numbering = imgt_number(FABS[\"Fab06\"][\"VH\"])\n",
        "    print(numbering[:10])\n",
        "except Exception as e:\n",
        "    print(\"ANARCI not installed/available; skip numbering.\")\n"
      ]
    }
  ],
  "metadata": {
    "language_info": {
      "name": "python"
    }
  },
  "nbformat": 4,
  "nbformat_minor": 2
}

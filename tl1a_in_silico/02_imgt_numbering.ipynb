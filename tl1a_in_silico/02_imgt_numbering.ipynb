{
  "cells": [
    {
      "cell_type": "code",
      "execution_count": null,
      "metadata": {},
      "outputs": [],
      "source": [
        "# Shared sequences (FABS) for numbering examples\n",
        "FABS = {\n",
        " \"Fab06\":{\"VH\":\"EVQLVESGGGLVQPGGSLRLSCAASGFTSGYSMHINWVRQAPGKGLEWVAVISYDGGDANYNPNLKDKATLTVDTSSSTAYMQLSSLTSEDSAVYYCARGLYGSDWYFDYFDYWGQGTLVTVSS\",\n",
        "          \"VL\":\"DIVMTQSPSSLSASVGDRVTITCRASQSNYGTSYWYQQKPGKAPKLLIYDASRATGVPDRFSGSGSGTDFTLTISSLQPEDFATYYCQQYNNYPTFGGGTKLEIK\"}\n",
        "}\n",
        "\n",
        "# Minimal sanity: show the VH of Fab06\n",
        "print(len(FABS[\"Fab06\"][\"VH\"]))\n"
      ]
    },
    {
      "cell_type": "code",
      "execution_count": null,
      "metadata": {},
      "outputs": [],
      "source": [
        "# Optional IMGT/ANARCI numbering\n",
        "try:\n",
        "    from anarci import run_anarci\n",
        "    def imgt_number(seq):\n",
        "        res,_,_ = run_anarci([(\"seq\", seq)], scheme=\"imgt\", assign_germline=True)\n",
        "        return res[0][0]['alignment']\n",
        "    numbering = imgt_number(FABS[\"Fab06\"][\"VH\"])\n",
        "    print(numbering[:10])\n",
        "except Exception as e:\n",
        "    print(\"ANARCI not installed/available; skip numbering.\")\n"
      ]
    }
  ],
  "metadata": {
    "language_info": {
      "name": "python"
    }
  },
  "nbformat": 4,
  "nbformat_minor": 2
}

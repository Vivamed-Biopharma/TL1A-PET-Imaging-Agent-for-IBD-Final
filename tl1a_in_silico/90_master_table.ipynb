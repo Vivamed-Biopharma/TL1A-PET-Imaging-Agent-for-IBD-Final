{
  "cells": [
    {
      "cell_type": "code",
      "execution_count": null,
      "metadata": {},
      "outputs": [],
      "source": [
        "# This notebook expects df_dev (03) and df_dar (04) in memory.\n",
        "# If running standalone, re-run the relevant cells from 03 and 04 first or re-import results.\n",
        "\n",
        "import pandas as pd\n",
        "\n",
        "try:\n",
        "    MASTER = df_dev.merge(df_dar, on=\"Clone\").sort_values(\"Clone\")\n",
        "    cols = [\"Clone\",\"pI_VH\",\"pI_VL\",\"Hyd_VH\",\"Hyd_VL\",\"NG_VH\",\"NG_VL\",\"DG_VH\",\"DG_VL\",\n",
        "            \"Met_VH\",\"Met_VL\",\"Trp_VH\",\"Trp_VL\",\"Lys_total\",\"K_cdr\",\"K_fr\",\"K_accessible\",\n",
        "            \"Eq_best\",\"P_DAR_1_2\",\"P_DAR_ge4\",\"E_DAR\"]\n",
        "    print(MASTER[cols].to_string(index=False))\n",
        "\n",
        "    print(\"\\n=== EXEC SUMMARY (paste to Syngene) ===\")\n",
        "    print(\"* 12/12 sequences QC PASS; no NXS/T motifs; FASTA provided.\")\n",
        "    print(\"* Developability: Hydrophobic% in band; pI(VL) ~6–8 typical; liabilities modest.\")\n",
        "    print(\"* Conjugation model: Eq_best mostly 4; P(DAR 1–2) ~0.60–0.70; P(≥4) ≤ 0.08; E[DAR] ~1.5–1.7.\")\n",
        "    print(\"* Detectability math supports TBR ≥ 1.5 at 1–2 h for plausible Bmax/Kd; TE ΔTBR ~ −0.2 to −0.5 at 80% occupancy.\")\n",
        "    print(\"* Next: Binding (KD ≤ 10 nM) + DR3 competition (≥50%); then NOTA conjugation (DAR 1–2; IRF ≥ 70%; HMW ≤ 3%); Ga‑68 labeling (RCP ≥ 95%).\")\n",
        "except NameError:\n",
        "    print(\"df_dev and/or df_dar not found. Run notebooks 03 and 04 first, or copy their DataFrames here.\")\n"
      ]
    }
  ],
  "metadata": {
    "language_info": {
      "name": "python"
    }
  },
  "nbformat": 4,
  "nbformat_minor": 2
}
